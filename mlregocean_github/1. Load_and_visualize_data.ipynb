{
 "cells": [
  {
   "cell_type": "markdown",
   "id": "ed3e6dd9",
   "metadata": {},
   "source": [
    "# Table of Contents\n",
    "* [Load data](#Load-models-and-data)\n",
    "* [Visualize data](#Visualize-data-with-histograms)\n",
    "* [Train models](#models)"
   ]
  },
  {
   "cell_type": "markdown",
   "id": "8f952222",
   "metadata": {},
   "source": [
    "## Load data\n",
    "[Table of Contents](#Table-of-Contents)"
   ]
  },
  {
   "cell_type": "code",
   "execution_count": 1,
   "id": "06bd9cec",
   "metadata": {},
   "outputs": [],
   "source": [
    "import os\n",
    "import numpy as np\n",
    "import pandas as pd\n",
    "import seaborn as sns\n",
    "import matplotlib.pyplot as plt\n",
    "from ml import Py4R_plots\n",
    "import joblib\n",
    "from ml import data_load_SYKE_S3\n",
    "from ml import models\n",
    "from ml import ml_regression"
   ]
  },
  {
   "cell_type": "code",
   "execution_count": 2,
   "id": "83b493de",
   "metadata": {},
   "outputs": [],
   "source": [
    "skdata_X_train, skdata_X_test, skdata_y_train, skdata_y_test = data_load_SYKE_S3.load_SYKE()\n",
    "mean_y_train = np.mean(skdata_y_train)"
   ]
  },
  {
   "cell_type": "code",
   "execution_count": 3,
   "id": "7b4ba37a",
   "metadata": {},
   "outputs": [
    {
     "data": {
      "text/html": [
       "<div>\n",
       "<style scoped>\n",
       "    .dataframe tbody tr th:only-of-type {\n",
       "        vertical-align: middle;\n",
       "    }\n",
       "\n",
       "    .dataframe tbody tr th {\n",
       "        vertical-align: top;\n",
       "    }\n",
       "\n",
       "    .dataframe thead th {\n",
       "        text-align: right;\n",
       "    }\n",
       "</style>\n",
       "<table border=\"1\" class=\"dataframe\">\n",
       "  <thead>\n",
       "    <tr style=\"text-align: right;\">\n",
       "      <th></th>\n",
       "      <th>S3400</th>\n",
       "      <th>S3412.5</th>\n",
       "      <th>S3442.5</th>\n",
       "      <th>S3490</th>\n",
       "      <th>S3510</th>\n",
       "      <th>S3560</th>\n",
       "      <th>S3620</th>\n",
       "      <th>S3665</th>\n",
       "      <th>S3673.75</th>\n",
       "      <th>S3681.25</th>\n",
       "      <th>S3708.75</th>\n",
       "      <th>S3753.75</th>\n",
       "      <th>S3ratio1</th>\n",
       "      <th>S3ratio2</th>\n",
       "    </tr>\n",
       "  </thead>\n",
       "  <tbody>\n",
       "    <tr>\n",
       "      <th>1837</th>\n",
       "      <td>0.000261</td>\n",
       "      <td>0.000303</td>\n",
       "      <td>0.000443</td>\n",
       "      <td>0.000856</td>\n",
       "      <td>0.001127</td>\n",
       "      <td>0.002223</td>\n",
       "      <td>0.002629</td>\n",
       "      <td>0.002183</td>\n",
       "      <td>0.002042</td>\n",
       "      <td>0.002017</td>\n",
       "      <td>0.001585</td>\n",
       "      <td>0.000505</td>\n",
       "      <td>2.548614</td>\n",
       "      <td>1.850383</td>\n",
       "    </tr>\n",
       "    <tr>\n",
       "      <th>1957</th>\n",
       "      <td>0.000127</td>\n",
       "      <td>0.000150</td>\n",
       "      <td>0.000226</td>\n",
       "      <td>0.000451</td>\n",
       "      <td>0.000601</td>\n",
       "      <td>0.001246</td>\n",
       "      <td>0.002438</td>\n",
       "      <td>0.003084</td>\n",
       "      <td>0.003076</td>\n",
       "      <td>0.003172</td>\n",
       "      <td>0.003116</td>\n",
       "      <td>0.001173</td>\n",
       "      <td>6.841903</td>\n",
       "      <td>6.914533</td>\n",
       "    </tr>\n",
       "    <tr>\n",
       "      <th>3700</th>\n",
       "      <td>0.000058</td>\n",
       "      <td>0.000068</td>\n",
       "      <td>0.000100</td>\n",
       "      <td>0.000195</td>\n",
       "      <td>0.000257</td>\n",
       "      <td>0.000512</td>\n",
       "      <td>0.000853</td>\n",
       "      <td>0.000936</td>\n",
       "      <td>0.000933</td>\n",
       "      <td>0.000936</td>\n",
       "      <td>0.000698</td>\n",
       "      <td>0.000240</td>\n",
       "      <td>4.795544</td>\n",
       "      <td>3.576459</td>\n",
       "    </tr>\n",
       "    <tr>\n",
       "      <th>217</th>\n",
       "      <td>0.000194</td>\n",
       "      <td>0.000222</td>\n",
       "      <td>0.000313</td>\n",
       "      <td>0.000578</td>\n",
       "      <td>0.000742</td>\n",
       "      <td>0.001334</td>\n",
       "      <td>0.001100</td>\n",
       "      <td>0.000797</td>\n",
       "      <td>0.000746</td>\n",
       "      <td>0.000725</td>\n",
       "      <td>0.000497</td>\n",
       "      <td>0.000155</td>\n",
       "      <td>1.378676</td>\n",
       "      <td>0.860302</td>\n",
       "    </tr>\n",
       "    <tr>\n",
       "      <th>1421</th>\n",
       "      <td>0.000349</td>\n",
       "      <td>0.000398</td>\n",
       "      <td>0.000557</td>\n",
       "      <td>0.001027</td>\n",
       "      <td>0.001312</td>\n",
       "      <td>0.002306</td>\n",
       "      <td>0.001620</td>\n",
       "      <td>0.001117</td>\n",
       "      <td>0.001038</td>\n",
       "      <td>0.001006</td>\n",
       "      <td>0.000688</td>\n",
       "      <td>0.000213</td>\n",
       "      <td>1.087488</td>\n",
       "      <td>0.669896</td>\n",
       "    </tr>\n",
       "    <tr>\n",
       "      <th>...</th>\n",
       "      <td>...</td>\n",
       "      <td>...</td>\n",
       "      <td>...</td>\n",
       "      <td>...</td>\n",
       "      <td>...</td>\n",
       "      <td>...</td>\n",
       "      <td>...</td>\n",
       "      <td>...</td>\n",
       "      <td>...</td>\n",
       "      <td>...</td>\n",
       "      <td>...</td>\n",
       "      <td>...</td>\n",
       "      <td>...</td>\n",
       "      <td>...</td>\n",
       "    </tr>\n",
       "    <tr>\n",
       "      <th>3772</th>\n",
       "      <td>0.000245</td>\n",
       "      <td>0.000284</td>\n",
       "      <td>0.000412</td>\n",
       "      <td>0.000790</td>\n",
       "      <td>0.001037</td>\n",
       "      <td>0.002028</td>\n",
       "      <td>0.002275</td>\n",
       "      <td>0.001833</td>\n",
       "      <td>0.001702</td>\n",
       "      <td>0.001679</td>\n",
       "      <td>0.001348</td>\n",
       "      <td>0.000431</td>\n",
       "      <td>2.320424</td>\n",
       "      <td>1.706242</td>\n",
       "    </tr>\n",
       "    <tr>\n",
       "      <th>5191</th>\n",
       "      <td>0.000620</td>\n",
       "      <td>0.000718</td>\n",
       "      <td>0.001039</td>\n",
       "      <td>0.001981</td>\n",
       "      <td>0.002551</td>\n",
       "      <td>0.004551</td>\n",
       "      <td>0.003418</td>\n",
       "      <td>0.002426</td>\n",
       "      <td>0.002284</td>\n",
       "      <td>0.002205</td>\n",
       "      <td>0.001408</td>\n",
       "      <td>0.000426</td>\n",
       "      <td>1.224341</td>\n",
       "      <td>0.710706</td>\n",
       "    </tr>\n",
       "    <tr>\n",
       "      <th>5226</th>\n",
       "      <td>0.000332</td>\n",
       "      <td>0.000386</td>\n",
       "      <td>0.000562</td>\n",
       "      <td>0.001082</td>\n",
       "      <td>0.001412</td>\n",
       "      <td>0.002668</td>\n",
       "      <td>0.002546</td>\n",
       "      <td>0.001947</td>\n",
       "      <td>0.001837</td>\n",
       "      <td>0.001790</td>\n",
       "      <td>0.001213</td>\n",
       "      <td>0.000375</td>\n",
       "      <td>1.799166</td>\n",
       "      <td>1.120386</td>\n",
       "    </tr>\n",
       "    <tr>\n",
       "      <th>5390</th>\n",
       "      <td>0.000052</td>\n",
       "      <td>0.000060</td>\n",
       "      <td>0.000087</td>\n",
       "      <td>0.000166</td>\n",
       "      <td>0.000217</td>\n",
       "      <td>0.000424</td>\n",
       "      <td>0.000638</td>\n",
       "      <td>0.000635</td>\n",
       "      <td>0.000618</td>\n",
       "      <td>0.000616</td>\n",
       "      <td>0.000476</td>\n",
       "      <td>0.000161</td>\n",
       "      <td>3.833550</td>\n",
       "      <td>2.871318</td>\n",
       "    </tr>\n",
       "    <tr>\n",
       "      <th>860</th>\n",
       "      <td>0.000417</td>\n",
       "      <td>0.000482</td>\n",
       "      <td>0.000695</td>\n",
       "      <td>0.001323</td>\n",
       "      <td>0.001710</td>\n",
       "      <td>0.003120</td>\n",
       "      <td>0.002519</td>\n",
       "      <td>0.001819</td>\n",
       "      <td>0.001708</td>\n",
       "      <td>0.001655</td>\n",
       "      <td>0.001096</td>\n",
       "      <td>0.000336</td>\n",
       "      <td>1.374936</td>\n",
       "      <td>0.828445</td>\n",
       "    </tr>\n",
       "  </tbody>\n",
       "</table>\n",
       "<p>4164 rows × 14 columns</p>\n",
       "</div>"
      ],
      "text/plain": [
       "         S3400   S3412.5   S3442.5     S3490     S3510     S3560     S3620  \\\n",
       "1837  0.000261  0.000303  0.000443  0.000856  0.001127  0.002223  0.002629   \n",
       "1957  0.000127  0.000150  0.000226  0.000451  0.000601  0.001246  0.002438   \n",
       "3700  0.000058  0.000068  0.000100  0.000195  0.000257  0.000512  0.000853   \n",
       "217   0.000194  0.000222  0.000313  0.000578  0.000742  0.001334  0.001100   \n",
       "1421  0.000349  0.000398  0.000557  0.001027  0.001312  0.002306  0.001620   \n",
       "...        ...       ...       ...       ...       ...       ...       ...   \n",
       "3772  0.000245  0.000284  0.000412  0.000790  0.001037  0.002028  0.002275   \n",
       "5191  0.000620  0.000718  0.001039  0.001981  0.002551  0.004551  0.003418   \n",
       "5226  0.000332  0.000386  0.000562  0.001082  0.001412  0.002668  0.002546   \n",
       "5390  0.000052  0.000060  0.000087  0.000166  0.000217  0.000424  0.000638   \n",
       "860   0.000417  0.000482  0.000695  0.001323  0.001710  0.003120  0.002519   \n",
       "\n",
       "         S3665  S3673.75  S3681.25  S3708.75  S3753.75  S3ratio1  S3ratio2  \n",
       "1837  0.002183  0.002042  0.002017  0.001585  0.000505  2.548614  1.850383  \n",
       "1957  0.003084  0.003076  0.003172  0.003116  0.001173  6.841903  6.914533  \n",
       "3700  0.000936  0.000933  0.000936  0.000698  0.000240  4.795544  3.576459  \n",
       "217   0.000797  0.000746  0.000725  0.000497  0.000155  1.378676  0.860302  \n",
       "1421  0.001117  0.001038  0.001006  0.000688  0.000213  1.087488  0.669896  \n",
       "...        ...       ...       ...       ...       ...       ...       ...  \n",
       "3772  0.001833  0.001702  0.001679  0.001348  0.000431  2.320424  1.706242  \n",
       "5191  0.002426  0.002284  0.002205  0.001408  0.000426  1.224341  0.710706  \n",
       "5226  0.001947  0.001837  0.001790  0.001213  0.000375  1.799166  1.120386  \n",
       "5390  0.000635  0.000618  0.000616  0.000476  0.000161  3.833550  2.871318  \n",
       "860   0.001819  0.001708  0.001655  0.001096  0.000336  1.374936  0.828445  \n",
       "\n",
       "[4164 rows x 14 columns]"
      ]
     },
     "execution_count": 3,
     "metadata": {},
     "output_type": "execute_result"
    }
   ],
   "source": [
    "#Visualize data in table format\n",
    "skdata_X_train"
   ]
  },
  {
   "cell_type": "code",
   "execution_count": 4,
   "id": "28146ebd",
   "metadata": {},
   "outputs": [
    {
     "data": {
      "text/plain": [
       "array([ 7.38, 35.67, 18.45, ...,  4.37, 14.76,  3.08])"
      ]
     },
     "execution_count": 4,
     "metadata": {},
     "output_type": "execute_result"
    }
   ],
   "source": [
    "skdata_y_train"
   ]
  },
  {
   "cell_type": "markdown",
   "id": "f13a4898",
   "metadata": {},
   "source": [
    "## Visualize data with histograms\n",
    "[Table of Contents](#Table-of-Contents)"
   ]
  },
  {
   "cell_type": "code",
   "execution_count": 5,
   "id": "02a3d4ef",
   "metadata": {},
   "outputs": [
    {
     "data": {
      "text/plain": [
       "(4164, 14)"
      ]
     },
     "execution_count": 5,
     "metadata": {},
     "output_type": "execute_result"
    }
   ],
   "source": [
    "#Calling the shape attribute of a dataframe will return a tuple \n",
    "#containing the dimensions (rows x columns) of a dataframe\n",
    "skdata_X_train.shape"
   ]
  },
  {
   "cell_type": "code",
   "execution_count": 6,
   "id": "06e1f7a0",
   "metadata": {},
   "outputs": [
    {
     "data": {
      "text/plain": [
       "S3400       float64\n",
       "S3412.5     float64\n",
       "S3442.5     float64\n",
       "S3490       float64\n",
       "S3510       float64\n",
       "S3560       float64\n",
       "S3620       float64\n",
       "S3665       float64\n",
       "S3673.75    float64\n",
       "S3681.25    float64\n",
       "S3708.75    float64\n",
       "S3753.75    float64\n",
       "S3ratio1    float64\n",
       "S3ratio2    float64\n",
       "dtype: object"
      ]
     },
     "execution_count": 6,
     "metadata": {},
     "output_type": "execute_result"
    }
   ],
   "source": [
    "#Calling the dtypes attribute of a dataframe will return information \n",
    "#about the data types of the individual variables within the dataframe.\n",
    "skdata_X_train.dtypes"
   ]
  },
  {
   "cell_type": "code",
   "execution_count": 7,
   "id": "bc7c6b04",
   "metadata": {},
   "outputs": [
    {
     "data": {
      "text/plain": [
       "array([[<AxesSubplot:title={'center':'S3400'}>,\n",
       "        <AxesSubplot:title={'center':'S3620'}>],\n",
       "       [<AxesSubplot:title={'center':'S3ratio1'}>,\n",
       "        <AxesSubplot:title={'center':'S3ratio2'}>]], dtype=object)"
      ]
     },
     "execution_count": 7,
     "metadata": {},
     "output_type": "execute_result"
    },
    {
     "data": {
      "image/png": "[encoded data removed]",
      "text/plain": [
       "<Figure size 1080x720 with 4 Axes>"
      ]
     },
     "metadata": {
      "needs_background": "light"
     },
     "output_type": "display_data"
    }
   ],
   "source": [
    "#Plot histograms by band\n",
    "skdata_X_train.hist(column=['S3400','S3620', 'S3ratio1','S3ratio2'], bins=25,grid=False, figsize=(15,10), color='#86bf91', \n",
    "                    zorder=2, rwidth=0.9)"
   ]
  },
  {
   "cell_type": "code",
   "execution_count": 8,
   "id": "bc8aad00",
   "metadata": {},
   "outputs": [],
   "source": [
    "df=np.log10(skdata_X_train)"
   ]
  },
  {
   "cell_type": "code",
   "execution_count": 9,
   "id": "1c643357",
   "metadata": {},
   "outputs": [
    {
     "data": {
      "text/plain": [
       "array([[<AxesSubplot:title={'center':'S3400'}>,\n",
       "        <AxesSubplot:title={'center':'S3620'}>],\n",
       "       [<AxesSubplot:title={'center':'S3ratio1'}>,\n",
       "        <AxesSubplot:title={'center':'S3ratio2'}>]], dtype=object)"
      ]
     },
     "execution_count": 9,
     "metadata": {},
     "output_type": "execute_result"
    },
    {
     "data": {
      "image/png": "[encoded data removed]",
      "text/plain": [
       "<Figure size 1080x720 with 4 Axes>"
      ]
     },
     "metadata": {
      "needs_background": "light"
     },
     "output_type": "display_data"
    }
   ],
   "source": [
    "df.hist(column=['S3400','S3620', 'S3ratio1','S3ratio2'], bins=25,grid=False, figsize=(15,10), color='#86bf91', \n",
    "                    zorder=2, rwidth=0.9)"
   ]
  },
  {
   "cell_type": "markdown",
   "id": "db0f8944",
   "metadata": {},
   "source": [
    "## Train the models\n",
    "[Table of Contents](#Table-of-Contents)"
   ]
  },
  {
   "cell_type": "code",
   "execution_count": 12,
   "id": "66ada0a6",
   "metadata": {},
   "outputs": [],
   "source": [
    "#Import function from ml_regression\n",
    "from ml.ml_regression import train_models"
   ]
  },
  {
   "cell_type": "code",
   "execution_count": 13,
   "id": "48ab02aa",
   "metadata": {},
   "outputs": [
    {
     "name": "stdout",
     "output_type": "stream",
     "text": [
      "Trying bands S3ratio1\n",
      "Shapes train: (4164, 1)\n",
      "-------------------------------------------------\n",
      "Fitting model: RLR\n",
      "-------------------------------------------------\n",
      "Fitting 10 folds for each of 6 candidates, totalling 60 fits\n",
      "-------------------------------------------------\n",
      "Fitting model: RFR\n",
      "-------------------------------------------------\n",
      "Fitting 10 folds for each of 5 candidates, totalling 50 fits\n",
      "-------------------------------------------------\n",
      "Fitting model: Polyfit\n",
      "-------------------------------------------------\n",
      "Trying bands S3ratio2\n",
      "Shapes train: (4164, 1)\n",
      "-------------------------------------------------\n",
      "Fitting model: RLR\n",
      "-------------------------------------------------\n",
      "Fitting 10 folds for each of 6 candidates, totalling 60 fits\n",
      "-------------------------------------------------\n",
      "Fitting model: RFR\n",
      "-------------------------------------------------\n",
      "Fitting 10 folds for each of 5 candidates, totalling 50 fits\n",
      "-------------------------------------------------\n",
      "Fitting model: Polyfit\n",
      "-------------------------------------------------\n",
      "Trying bands S3bands&ratios\n",
      "Shapes train: (4164, 14)\n",
      "-------------------------------------------------\n",
      "Fitting model: RLR\n",
      "-------------------------------------------------\n",
      "Fitting 10 folds for each of 6 candidates, totalling 60 fits\n",
      "-------------------------------------------------\n",
      "Fitting model: RFR\n",
      "-------------------------------------------------\n",
      "Fitting 10 folds for each of 5 candidates, totalling 50 fits\n"
     ]
    }
   ],
   "source": [
    "#Train models specified in 'train_models' (contains different combiantion of data)\n",
    "train_models()"
   ]
  },
  {
   "cell_type": "code",
   "execution_count": null,
   "id": "cc164be2",
   "metadata": {},
   "outputs": [],
   "source": []
  }
 ],
 "metadata": {
  "kernelspec": {
   "display_name": "Python 3 (ipykernel)",
   "language": "python",
   "name": "python3"
  },
  "language_info": {
   "codemirror_mode": {
    "name": "ipython",
    "version": 3
   },
   "file_extension": ".py",
   "mimetype": "text/x-python",
   "name": "python",
   "nbconvert_exporter": "python",
   "pygments_lexer": "ipython3",
   "version": "3.8.8"
  }
 },
 "nbformat": 4,
 "nbformat_minor": 5
}
